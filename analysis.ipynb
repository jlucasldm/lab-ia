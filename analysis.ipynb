{
 "cells": [
  {
   "cell_type": "code",
   "execution_count": null,
   "metadata": {},
   "outputs": [],
   "source": [
    "import pandas as pd\n",
    "import numpy as np\n",
    "import plotly.express as px\n",
    "import missingno as msno\n",
    "import matplotlib.pyplot as plt\n",
    "import seaborn as sns\n",
    "from imblearn.over_sampling import SMOTE\n",
    "from sklearn.preprocessing import LabelEncoder"
   ]
  },
  {
   "cell_type": "code",
   "execution_count": null,
   "metadata": {},
   "outputs": [],
   "source": [
    "dataset_path = r'./datasus/part-00000-0b7ee8fc-4d40-4b71-bec3-5d9ddbf54ec9.c000.csv'\n",
    "datasus_df = pd.read_csv(dataset_path, sep=';')"
   ]
  },
  {
   "cell_type": "markdown",
   "metadata": {},
   "source": [
    "# Verificando informações gerais sobre o dataset"
   ]
  },
  {
   "cell_type": "code",
   "execution_count": null,
   "metadata": {},
   "outputs": [],
   "source": [
    "datasus_df.info()"
   ]
  },
  {
   "cell_type": "code",
   "execution_count": null,
   "metadata": {},
   "outputs": [],
   "source": [
    "datasus_df.describe()"
   ]
  },
  {
   "cell_type": "code",
   "execution_count": null,
   "metadata": {},
   "outputs": [],
   "source": [
    "datasus_df['classificacaoFinal'].info()"
   ]
  },
  {
   "cell_type": "markdown",
   "metadata": {},
   "source": [
    "# Verificação de valores nulos"
   ]
  },
  {
   "cell_type": "code",
   "execution_count": null,
   "metadata": {},
   "outputs": [],
   "source": [
    "msno.matrix(datasus_df)"
   ]
  },
  {
   "cell_type": "markdown",
   "metadata": {},
   "source": [
    "# Conferindo features categóricas e numéricas"
   ]
  },
  {
   "cell_type": "code",
   "execution_count": null,
   "metadata": {},
   "outputs": [],
   "source": [
    "fig, ax = plt.subplots()\n",
    "datasus_df.dtypes.value_counts().plot(kind='bar', ax=ax)\n",
    "ax.set_title('Número de features por tipo de dado')\n",
    "ax.set_xlabel('Tipo de dado')\n",
    "ax.set_ylabel('Número de features')\n",
    "plt.show()"
   ]
  },
  {
   "cell_type": "markdown",
   "metadata": {},
   "source": [
    "# Analisando imbalanceamento da feature alvo"
   ]
  },
  {
   "cell_type": "code",
   "execution_count": null,
   "metadata": {},
   "outputs": [],
   "source": [
    "datasus_df.dropna(subset=['classificacaoFinal'], inplace=True)"
   ]
  },
  {
   "cell_type": "code",
   "execution_count": null,
   "metadata": {},
   "outputs": [],
   "source": [
    "datasus_df['classificacaoFinal'].value_counts()"
   ]
  },
  {
   "cell_type": "markdown",
   "metadata": {},
   "source": [
    "# Lidando com a coluna \"Sintomas\""
   ]
  },
  {
   "cell_type": "code",
   "execution_count": null,
   "metadata": {},
   "outputs": [],
   "source": [
    "datasus_df['listaSintomas'] = datasus_df['sintomas'].str.split(',')\n",
    "datasus_df.dropna(subset=['listaSintomas'], inplace=True)\n",
    "datasus_df['listaSintomas'] = datasus_df['listaSintomas'].apply(lambda x: [s.lower().strip() for s in x])\n",
    "datasus_df['idPaciente'] = datasus_df.index\n",
    "sintomas_df = datasus_df.explode('listaSintomas')\n",
    "encoded_df = pd.get_dummies(sintomas_df['listaSintomas'])\n",
    "agrupado_df = sintomas_df[['idPaciente']].join(encoded_df).groupby('idPaciente').max()\n",
    "resultado_df = pd.merge(datasus_df.drop(columns=['listaSintomas']), agrupado_df, left_index=True, right_index=True)\n",
    "resultado_df.drop(columns=['', 'sintomas'], inplace=True)"
   ]
  },
  {
   "cell_type": "markdown",
   "metadata": {},
   "source": [
    "# Lidando com a coluna \"Outros Sintomas\"\n",
    "A coluna \"outrosSintomas\" necessita do mesmo tratamento que a coluna \"sintomas\", mas para propósitos de economia computacional, vamos dropar ela por hora"
   ]
  },
  {
   "cell_type": "code",
   "execution_count": null,
   "metadata": {},
   "outputs": [],
   "source": [
    "resultado_df.drop(columns=['outrosSintomas', 'outrasCondicoes'], inplace=True)"
   ]
  },
  {
   "cell_type": "code",
   "execution_count": null,
   "metadata": {},
   "outputs": [],
   "source": [
    "resultado_df.nunique().sort_values(ascending=False)"
   ]
  },
  {
   "cell_type": "markdown",
   "metadata": {},
   "source": [
    "# Dropando colunas insignificantes"
   ]
  },
  {
   "cell_type": "markdown",
   "metadata": {},
   "source": [
    "## Colunas de data"
   ]
  },
  {
   "cell_type": "code",
   "execution_count": null,
   "metadata": {},
   "outputs": [],
   "source": [
    "resultado_df.drop(columns=resultado_df.filter(like='data').columns, inplace=True)\n",
    "resultado_df.info()"
   ]
  },
  {
   "cell_type": "markdown",
   "metadata": {},
   "source": [
    "## Coluna \"source_id\""
   ]
  },
  {
   "cell_type": "code",
   "execution_count": null,
   "metadata": {},
   "outputs": [],
   "source": [
    "resultado_df.drop(columns=['source_id'], inplace=True)"
   ]
  },
  {
   "cell_type": "markdown",
   "metadata": {},
   "source": [
    "## Colunas de códigos\n",
    "Muitas das colunas que possuem \"código\" no nome estão como tipo float64, quando na verdade são códigos únicos e categóricos"
   ]
  },
  {
   "cell_type": "code",
   "execution_count": null,
   "metadata": {},
   "outputs": [],
   "source": [
    "resultado_df[resultado_df.select_dtypes(include=['float64']).columns].info()"
   ]
  },
  {
   "cell_type": "code",
   "execution_count": null,
   "metadata": {},
   "outputs": [],
   "source": [
    "resultado_df[resultado_df.filter(like='codigo').columns] = resultado_df.filter(like='codigo').astype('category')\n",
    "resultado_df[resultado_df.filter(like='codigo').columns].info()"
   ]
  },
  {
   "cell_type": "code",
   "execution_count": null,
   "metadata": {},
   "outputs": [],
   "source": [
    "resultado_df[resultado_df.filter(like='codigo').columns].nunique().sort_values(ascending=False)"
   ]
  },
  {
   "cell_type": "markdown",
   "metadata": {},
   "source": [
    "# Tratando colunas categóricas do tipo \"object\""
   ]
  },
  {
   "cell_type": "code",
   "execution_count": null,
   "metadata": {},
   "outputs": [],
   "source": [
    "resultado_df.select_dtypes(include=['object']).columns"
   ]
  },
  {
   "cell_type": "code",
   "execution_count": null,
   "metadata": {},
   "outputs": [],
   "source": [
    "resultado_df.select_dtypes(include=['object']).nunique().sort_values(ascending=False)"
   ]
  },
  {
   "cell_type": "code",
   "execution_count": null,
   "metadata": {},
   "outputs": [],
   "source": [
    "resultado_df.drop(columns=['estadoNotificacao', 'estadoNotificacaoIBGE', 'origem', 'cbo'], inplace=True)"
   ]
  },
  {
   "cell_type": "markdown",
   "metadata": {},
   "source": [
    "# Tratando a coluna condições\n",
    "A coluna \"condições\", assim como a coluna \"sintomas\", possui strings que determinam as condições, e portanto cada condição listada deve receber sua própria coluna booleana. No entanto, fazer esse tipo de tratamento nos dados implica numa perda de 84000 entries, então o código abaixo foi comentado para ficar como um tratamento opcional para propósitos de treinamento."
   ]
  },
  {
   "cell_type": "code",
   "execution_count": null,
   "metadata": {},
   "outputs": [],
   "source": [
    "resultado_df['condicoes'] = resultado_df['condicoes'].fillna('nenhuma condição')\n",
    "resultado_df['listaCondicoes'] = datasus_df['condicoes'].str.split(',')\n",
    "resultado_df.dropna(subset=['listaCondicoes'], inplace=True)\n",
    "resultado_df['listaCondicoes'] = resultado_df['listaCondicoes'].apply(lambda x: [s.lower().strip() for s in x])\n",
    "condicoes_df = resultado_df.explode('listaCondicoes')\n",
    "encoded_df = pd.DataFrame()\n",
    "encoded_df = pd.get_dummies(condicoes_df['listaCondicoes'])\n",
    "agrupado_df = pd.DataFrame()\n",
    "agrupado_df = condicoes_df[['idPaciente']].join(encoded_df).groupby('idPaciente').max()\n",
    "resultado_df = pd.merge(resultado_df.drop(columns=['listaCondicoes']), agrupado_df, left_index=True, right_index=True)\n",
    "resultado_df.drop(columns=['condicoes'], inplace=True)\n",
    "resultado_df.info()"
   ]
  },
  {
   "cell_type": "code",
   "execution_count": null,
   "metadata": {},
   "outputs": [],
   "source": [
    "resultado_df.drop(columns=['4 ou 5)'], inplace=True)"
   ]
  },
  {
   "cell_type": "code",
   "execution_count": null,
   "metadata": {},
   "outputs": [],
   "source": [
    "resultado_df.drop(columns=resultado_df.columns[resultado_df.isnull().mean() > 0.9], inplace=True)"
   ]
  },
  {
   "cell_type": "code",
   "execution_count": null,
   "metadata": {},
   "outputs": [],
   "source": [
    "resultado_df.info()"
   ]
  },
  {
   "cell_type": "code",
   "execution_count": null,
   "metadata": {},
   "outputs": [],
   "source": [
    "for col in resultado_df.columns:\n",
    "    if resultado_df[col].dtype == 'categorical':\n",
    "        unique_types = resultado_df[col].map(type).unique()\n",
    "        print(f\"Column '{col}' has the following types: {unique_types}\")"
   ]
  },
  {
   "cell_type": "code",
   "execution_count": null,
   "metadata": {},
   "outputs": [],
   "source": [
    "resultado_df['municipioIBGE'] = resultado_df['municipioIBGE'].fillna(resultado_df['municipioIBGE'].mode()[0])\n",
    "resultado_df['municipioIBGE'] = resultado_df['municipioIBGE'].apply(lambda x: resultado_df['municipioIBGE'].mode()[0] if x == 'BA' else x)\n",
    "resultado_df['municipioIBGE'] = resultado_df['municipioIBGE'].apply(lambda x: int(x) if isinstance(x, float) else x)\n",
    "resultado_df['municipioIBGE'] = resultado_df['municipioIBGE'].apply(lambda x: str(x) if isinstance(x, int) else x)\n",
    "resultado_df['municipioIBGE'] = resultado_df['municipioIBGE'].astype('category')\n",
    "resultado_df['evolucaoCaso'] = resultado_df['evolucaoCaso'].fillna('Nenhum')\n",
    "resultado_df['outroBuscaAtivaAssintomatico'] = resultado_df['outroBuscaAtivaAssintomatico'].fillna('Nenhum')\n",
    "resultado_df['lotePrimeiraDose'] = resultado_df['lotePrimeiraDose'].fillna('Nenhum')\n",
    "resultado_df['loteSegundaDose'] = resultado_df['loteSegundaDose'].fillna('Nenhum')\n",
    "resultado_df['estadoIBGE'] = resultado_df['estadoIBGE'].fillna(resultado_df['estadoIBGE'].mode()[0])\n",
    "resultado_df['profissionalSeguranca'] = resultado_df['profissionalSeguranca'].fillna(resultado_df['profissionalSeguranca'].mode()[0])\n",
    "resultado_df['racaCor'] = resultado_df['racaCor'].fillna(resultado_df['racaCor'].mode()[0])\n",
    "resultado_df['totalTestesRealizados'] = resultado_df['totalTestesRealizados'].apply(lambda x: int(x) if isinstance(x, str) else x)\n",
    "\n",
    "for column in resultado_df.filter(like='codigo').columns:\n",
    "    resultado_df[column] = resultado_df[column].fillna(resultado_df[column].mode()[0])\n",
    "\n",
    "resultado_df['idade'] = resultado_df['idade'].fillna(resultado_df['idade'].mean())\n",
    "resultado_df['municipioNotificacaoIBGE'] = resultado_df['municipioNotificacaoIBGE'].fillna(resultado_df['municipioIBGE'])"
   ]
  },
  {
   "cell_type": "code",
   "execution_count": null,
   "metadata": {},
   "outputs": [],
   "source": [
    "def converter_para_coluna_bool(df, col):\n",
    "    df[col] = df[col].apply(lambda x: x.capitalize() if isinstance(x, str) else x)\n",
    "    df[col] = df[col].map({'False': False, 'True': True})\n",
    "    df[col] = df[col].astype('bool')"
   ]
  },
  {
   "cell_type": "code",
   "execution_count": null,
   "metadata": {},
   "outputs": [],
   "source": [
    "converter_para_coluna_bool(resultado_df, 'excluido')\n",
    "converter_para_coluna_bool(resultado_df, 'validado')"
   ]
  },
  {
   "cell_type": "code",
   "execution_count": null,
   "metadata": {},
   "outputs": [],
   "source": [
    "print(resultado_df['totalTestesRealizados'].map(type).value_counts())\n",
    "print(resultado_df['totalTestesRealizados'].sample(5))"
   ]
  },
  {
   "cell_type": "code",
   "execution_count": null,
   "metadata": {},
   "outputs": [],
   "source": [
    "for column in resultado_df.select_dtypes(include=['object']).columns:\n",
    "    resultado_df[column] = resultado_df[column].astype('category')"
   ]
  },
  {
   "cell_type": "markdown",
   "metadata": {},
   "source": [
    "# Solucionando a falta de balanceamento no target \"classificacaoFinal\"\n"
   ]
  },
  {
   "cell_type": "code",
   "execution_count": null,
   "metadata": {},
   "outputs": [],
   "source": [
    "# Plot a graph of the balance of the target variable \"classificacaoFinal\" using plotly-express\n",
    "fig = px.histogram(resultado_df, x='classificacaoFinal', title='Distribuição das classes na variável alvo')\n",
    "fig.show()\n"
   ]
  },
  {
   "cell_type": "code",
   "execution_count": null,
   "metadata": {},
   "outputs": [],
   "source": [
    "label_encoder = LabelEncoder()\n",
    "resultado_df['classificacaoFinal'] = label_encoder.fit_transform(resultado_df['classificacaoFinal'])\n",
    "\n",
    "for column in resultado_df.drop(columns=['classificacaoFinal']).select_dtypes(include=['category']).columns:\n",
    "    encoded_df = pd.get_dummies(resultado_df[column], prefix=column)\n",
    "    resultado_df = pd.concat([resultado_df, encoded_df], axis=1)\n",
    "    resultado_df.drop(columns=[column], inplace=True)\n",
    "\n"
   ]
  },
  {
   "cell_type": "code",
   "execution_count": null,
   "metadata": {},
   "outputs": [],
   "source": [
    "resultado_df.to_csv(r'./datasus/datasus_preprocessed.csv', index=False)"
   ]
  }
 ],
 "metadata": {
  "kernelspec": {
   "display_name": "datasus-ml",
   "language": "python",
   "name": "python3"
  },
  "language_info": {
   "codemirror_mode": {
    "name": "ipython",
    "version": 3
   },
   "file_extension": ".py",
   "mimetype": "text/x-python",
   "name": "python",
   "nbconvert_exporter": "python",
   "pygments_lexer": "ipython3",
   "version": "3.12.3"
  }
 },
 "nbformat": 4,
 "nbformat_minor": 2
}
